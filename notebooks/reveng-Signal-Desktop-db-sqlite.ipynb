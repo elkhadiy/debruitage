{
 "cells": [
  {
   "cell_type": "code",
   "execution_count": null,
   "metadata": {},
   "outputs": [],
   "source": [
    "from pysqlcipher3 import dbapi2 as sql\n",
    "\n",
    "import json\n",
    "import uuid\n",
    "from cryptography.hazmat.primitives import hashes\n",
    "from cryptography.hazmat.backends import default_backend\n",
    "import base64\n",
    "\n",
    "import numpy as np\n",
    "import pandas as pd\n",
    "\n",
    "SIGNAL_HOME = \"/home/yelkhadiri/.config/Signal\"\n",
    "\n",
    "DATABASE_FILE = SIGNAL_HOME + \"/sql/db.sqlite\"\n",
    "CONFIG_FILE = SIGNAL_HOME + \"/config.json\"\n",
    "\n",
    "with open(CONFIG_FILE, 'r') as f:\n",
    "    db_key = json.load(f)[\"key\"]"
   ]
  },
  {
   "cell_type": "code",
   "execution_count": null,
   "metadata": {},
   "outputs": [],
   "source": [
    "conn = sql.connect(DATABASE_FILE)\n",
    "c = conn.cursor()\n",
    "c.execute(\"\"\" PRAGMA key = \"x'{}'\"; \"\"\".format(db_key))"
   ]
  },
  {
   "cell_type": "code",
   "execution_count": null,
   "metadata": {},
   "outputs": [],
   "source": [
    "c.execute(\"SELECT name FROM sqlite_master WHERE type='table' ORDER BY name;\")\n",
    "available_tables=(c.fetchall())\n",
    "available_tables"
   ]
  },
  {
   "cell_type": "code",
   "execution_count": null,
   "metadata": {},
   "outputs": [],
   "source": [
    "df = pd.read_sql(\"SELECT * FROM {}\".format(\"conversations\"), conn)\n",
    "df"
   ]
  },
  {
   "cell_type": "code",
   "execution_count": null,
   "metadata": {},
   "outputs": [],
   "source": [
    "list(map(lambda x: np.datetime64(x, \"ms\"), df[\"active_at\"]))\n",
    "pd.Timestamp(\"2018-11-11 12:43:12\").to_datetime64().astype(np.int64) // 10**6"
   ]
  },
  {
   "cell_type": "code",
   "execution_count": null,
   "metadata": {},
   "outputs": [],
   "source": [
    "print(\n",
    "    json.dumps(\n",
    "        json.loads(df[df.json.str.contains('profileAvatar')].iloc[0].json),\n",
    "        indent=4\n",
    "    )\n",
    ")\n",
    "\n",
    "avatar_path = json.loads(df.iloc[-2].json)[\"profileAvatar\"][\"path\"]\n",
    "avatar_hash = json.loads(df.iloc[-2].json)[\"profileAvatar\"][\"hash\"]"
   ]
  },
  {
   "cell_type": "markdown",
   "metadata": {},
   "source": [
    "```javascript\n",
    "async function computeHash(arraybuffer) {\n",
    "  const hash = await crypto.subtle.digest({ name: 'SHA-512' }, arraybuffer);\n",
    "  return arrayBufferToBase64(hash);\n",
    "}\n",
    "\n",
    "if (avatar && avatar.data) {\n",
    "avatar = {\n",
    "  hash: await computeHash(avatar.data),\n",
    "  path: await writeNewAttachmentData(avatar.data),\n",
    "};\n",
    "}\n",
    "```\n",
    "\n",
    "avatar hash is sha-512 of avatar data"
   ]
  },
  {
   "cell_type": "code",
   "execution_count": null,
   "metadata": {},
   "outputs": [],
   "source": [
    "with open(SIGNAL_HOME + '/attachments.noindex/' + avatar_path, 'rb') as f:\n",
    "    digest = hashes.Hash(hashes.SHA512(), backend=default_backend())\n",
    "    digest.update(f.read())\n",
    "    comp_hash = base64.b64encode(digest.finalize()).decode('utf-8')\n",
    "    print(\"comp_hash == avatar_hash ?\", comp_hash == avatar_hash)"
   ]
  },
  {
   "cell_type": "code",
   "execution_count": null,
   "metadata": {},
   "outputs": [],
   "source": [
    "def mk_thread_json(profileId, profileName):\n",
    "    return json.dumps({\n",
    "        \"active_at\": str(np.datetime64('now', 'ms').astype(int)),\n",
    "        \"avatar\": None,\n",
    "        \"color\": \"teal\",\n",
    "        \"id\": profileId,\n",
    "        \"lastMessage\": None,\n",
    "        \"lastMessageStatus\": None,\n",
    "        \"name\": profileName,\n",
    "        \"profileAvatar\": None,\n",
    "        \"profileKey\": None,\n",
    "        \"profileName\": profileName,\n",
    "        \"timestamp\": None,\n",
    "        \"tokens\": None,\n",
    "        \"type\": \"private\",\n",
    "        \"unreadCount\": 0,\n",
    "        \"verified\": 0,\n",
    "        \"version\": 2\n",
    "    })"
   ]
  },
  {
   "cell_type": "code",
   "execution_count": null,
   "metadata": {},
   "outputs": [],
   "source": [
    "profileId = '33111111111'\n",
    "profileName = 'hello world'\n",
    "mk_thread_json('33111111111', 'hello world')"
   ]
  },
  {
   "cell_type": "code",
   "execution_count": null,
   "metadata": {},
   "outputs": [],
   "source": [
    "df"
   ]
  },
  {
   "cell_type": "code",
   "execution_count": null,
   "metadata": {},
   "outputs": [],
   "source": [
    "c.execute(\n",
    "    'INSERT into conversations VALUES (?, ?, ?, ?, ?, ?, ?)',\n",
    "    (profileId, mk_thread_json(profileId, profileName), np.datetime64('now', 'ms').astype(int), 'private', None, profileName, profileName)\n",
    ")"
   ]
  },
  {
   "cell_type": "code",
   "execution_count": null,
   "metadata": {},
   "outputs": [],
   "source": [
    "c.execute('DELETE from conversations WHERE id=\"{}\"'.format(profileId))"
   ]
  },
  {
   "cell_type": "code",
   "execution_count": null,
   "metadata": {},
   "outputs": [],
   "source": [
    "conn.commit()"
   ]
  },
  {
   "cell_type": "code",
   "execution_count": null,
   "metadata": {},
   "outputs": [],
   "source": [
    "df = pd.read_sql(\"SELECT * FROM {}\".format(\"messages\"), conn)"
   ]
  },
  {
   "cell_type": "code",
   "execution_count": null,
   "metadata": {},
   "outputs": [],
   "source": [
    "df.columns"
   ]
  },
  {
   "cell_type": "code",
   "execution_count": null,
   "metadata": {},
   "outputs": [],
   "source": [
    "df.iloc[-1]"
   ]
  },
  {
   "cell_type": "markdown",
   "metadata": {},
   "source": [
    "# Type ??"
   ]
  },
  {
   "cell_type": "code",
   "execution_count": null,
   "metadata": {},
   "outputs": [],
   "source": [
    "print(\n",
    "    json.dumps(\n",
    "        json.loads(df.iloc[-1].json),\n",
    "        indent=4\n",
    "    )\n",
    ")"
   ]
  },
  {
   "cell_type": "code",
   "execution_count": null,
   "metadata": {},
   "outputs": [],
   "source": [
    "print(\n",
    "    json.dumps(\n",
    "        json.loads(df.iloc[-2].json),\n",
    "        indent=4\n",
    "    )\n",
    ")"
   ]
  },
  {
   "cell_type": "code",
   "execution_count": null,
   "metadata": {},
   "outputs": [],
   "source": [
    "def mk_simple_msg_json(conversationId, source, direction, timestamp, msg):\n",
    "    return json.dumps({\n",
    "        \"attachments\": [],\n",
    "        \"body\": msg,\n",
    "        \"contact\": [],\n",
    "        \"conversationId\": conversationId,\n",
    "        \"decrypted_at\": timestamp,\n",
    "        \"errors\": [],\n",
    "        \"flags\": 0,\n",
    "        \"hasAttachments\": 0,\n",
    "        \"id\": \"e18ba6c3-0e89-4f03-afca-617232eb0f36\",\n",
    "        \"quote\": null,\n",
    "        \"received_at\": timestamp,\n",
    "        \"schemaVersion\": 9,\n",
    "        \"sent_at\": timestamp,\n",
    "        \"source\": source,\n",
    "        \"sourceDevice\": 1,\n",
    "        \"timestamp\": timestamp,\n",
    "        \"type\": direction\n",
    "    })"
   ]
  },
  {
   "cell_type": "code",
   "execution_count": null,
   "metadata": {},
   "outputs": [],
   "source": [
    "c.execute(\n",
    "    'INSERT into messages VALUES (?, ?, ?, ?, ?, ?, ?)',\n",
    "    (profileId, mk_thread_json(profileId, profileName), np.datetime64('now', 'ms').astype(int), 'private', None, profileName, profileName)\n",
    ")"
   ]
  },
  {
   "cell_type": "code",
   "execution_count": null,
   "metadata": {},
   "outputs": [],
   "source": [
    "print(\n",
    "    json.dumps(\n",
    "        json.loads(df[df.json.str.contains('contentType')].iloc[0].json),\n",
    "        indent=4\n",
    "    )\n",
    ")"
   ]
  },
  {
   "cell_type": "markdown",
   "metadata": {},
   "source": [
    "```javascript\n",
    "function generateUUID() {\n",
    "  return uuidv4();\n",
    "}\n",
    "```\n",
    "\n",
    "Ids are basic `uuid.uuid4()`\n",
    "\n",
    "```javascript\n",
    "exports.createName = () => {\n",
    "  const buffer = crypto.randomBytes(32);\n",
    "  return buffer.toString('hex');\n",
    "};\n",
    "```\n",
    "\n",
    "and attachment filenames are 32 random bytes `np.random.bytes(32).hex()`"
   ]
  },
  {
   "cell_type": "code",
   "execution_count": null,
   "metadata": {},
   "outputs": [],
   "source": []
  }
 ],
 "metadata": {
  "kernelspec": {
   "display_name": "Python 3",
   "language": "python",
   "name": "python3"
  },
  "language_info": {
   "codemirror_mode": {
    "name": "ipython",
    "version": 3
   },
   "file_extension": ".py",
   "mimetype": "text/x-python",
   "name": "python",
   "nbconvert_exporter": "python",
   "pygments_lexer": "ipython3",
   "version": "3.6.6"
  }
 },
 "nbformat": 4,
 "nbformat_minor": 2
}
