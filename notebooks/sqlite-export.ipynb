{
 "cells": [
  {
   "cell_type": "markdown",
   "metadata": {},
   "source": [
    "# Building an SQLite database from the export"
   ]
  },
  {
   "cell_type": "code",
   "execution_count": null,
   "metadata": {},
   "outputs": [],
   "source": [
    "from signal_backup_manager import importer\n",
    "import sqlite3\n",
    "import numpy as np\n",
    "import ctypes"
   ]
  },
  {
   "cell_type": "code",
   "execution_count": null,
   "metadata": {},
   "outputs": [],
   "source": [
    "BACKUP_PASSPHRASE = '770374738950407044994423070922'\n",
    "BACKUP_FILE       = '../res/signal.backup'\n",
    "\n",
    "bkp = importer.SignalBackupImporter(BACKUP_FILE, BACKUP_PASSPHRASE)"
   ]
  },
  {
   "cell_type": "code",
   "execution_count": null,
   "metadata": {},
   "outputs": [],
   "source": [
    "bkp.db_version"
   ]
  },
  {
   "cell_type": "code",
   "execution_count": null,
   "metadata": {},
   "outputs": [],
   "source": [
    "statement = bkp.db_statements[100]\n",
    "params = ()\n",
    "for param in statement.parameters:\n",
    "    if param.HasField('stringParamter'):\n",
    "        params += (param.stringParamter,)  \n",
    "    if param.HasField('doubleParameter'):\n",
    "        params += (param.doubleParameter,)\n",
    "    if param.HasField('integerParameter'):\n",
    "        params += (param.integerParameter,)\n",
    "    if param.HasField('nullparameter'):\n",
    "        params += (param.nullparameter,)"
   ]
  },
  {
   "cell_type": "code",
   "execution_count": null,
   "metadata": {},
   "outputs": [],
   "source": [
    "params"
   ]
  },
  {
   "cell_type": "code",
   "execution_count": null,
   "metadata": {},
   "outputs": [],
   "source": [
    "bkp.db_statements[300]"
   ]
  },
  {
   "cell_type": "code",
   "execution_count": null,
   "metadata": {},
   "outputs": [],
   "source": [
    "conn = sqlite3.connect('example.db')\n",
    "c = conn.cursor()\n",
    "\n",
    "for statement in bkp.db_statements:\n",
    "    \n",
    "    params = ()\n",
    "    for param in statement.parameters:\n",
    "        if param.HasField('stringParamter'):\n",
    "            params += (param.stringParamter,)  \n",
    "        if param.HasField('doubleParameter'):\n",
    "            params += (param.doubleParameter,)\n",
    "        if param.HasField('integerParameter'):\n",
    "            if param.integerParameter > 2 ** 63:\n",
    "                params += (ctypes.c_long(param.integerParameter).value,)\n",
    "            else:\n",
    "                params += (param.integerParameter,)\n",
    "        if param.HasField('blobParameter'):\n",
    "            params += (param.blobParameter,)\n",
    "        if param.HasField('nullparameter'):\n",
    "            params += (param.nullparameter,)\n",
    "    try:\n",
    "        c.execute(statement.statement, params)\n",
    "    except:\n",
    "        print(statement)\n",
    "        print(params)\n",
    "        conn.close()\n",
    "        raise\n",
    "\n",
    "conn.commit()\n",
    "conn.close()"
   ]
  },
  {
   "cell_type": "code",
   "execution_count": null,
   "metadata": {},
   "outputs": [],
   "source": [
    "bkp.db_preferences"
   ]
  },
  {
   "cell_type": "code",
   "execution_count": null,
   "metadata": {},
   "outputs": [],
   "source": []
  }
 ],
 "metadata": {
  "kernelspec": {
   "display_name": "Python 3",
   "language": "python",
   "name": "python3"
  },
  "language_info": {
   "codemirror_mode": {
    "name": "ipython",
    "version": 3
   },
   "file_extension": ".py",
   "mimetype": "text/x-python",
   "name": "python",
   "nbconvert_exporter": "python",
   "pygments_lexer": "ipython3",
   "version": "3.6.5"
  }
 },
 "nbformat": 4,
 "nbformat_minor": 2
}
