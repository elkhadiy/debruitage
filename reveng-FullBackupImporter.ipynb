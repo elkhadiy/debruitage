{
 "cells": [
  {
   "cell_type": "markdown",
   "metadata": {},
   "source": [
    "# Decrypting Signal Backup"
   ]
  },
  {
   "cell_type": "code",
   "execution_count": null,
   "metadata": {},
   "outputs": [],
   "source": [
    "from cryptography.hazmat.primitives          import hashes, hmac\n",
    "from cryptography.hazmat.primitives.kdf.hkdf import HKDF\n",
    "from cryptography.hazmat.backends            import default_backend\n",
    "from cryptography.hazmat.primitives.ciphers  import Cipher, algorithms, modes\n",
    "\n",
    "import Backups_pb2\n",
    "BACKUP_PASSPHRASE = '770374738950407044994423070922'\n",
    "BACKUP_FILE       = 'signal.backup'\n",
    "\n",
    "def getBackupKey(passphrase, salt):\n",
    "\n",
    "    i = bytes(passphrase, encoding='utf-8')\n",
    "    h = i\n",
    "\n",
    "    digest = hashes.Hash(hashes.SHA512(), backend=default_backend())\n",
    "    digest.update(salt)\n",
    "\n",
    "    for k in range(250000):\n",
    "        digest.update(h + i)\n",
    "        h = digest.finalize()\n",
    "        digest = hashes.Hash(hashes.SHA512(), backend=default_backend())\n",
    "\n",
    "    return h[:32]"
   ]
  },
  {
   "cell_type": "markdown",
   "metadata": {},
   "source": [
    "## Load encrypted frames"
   ]
  },
  {
   "cell_type": "code",
   "execution_count": null,
   "metadata": {},
   "outputs": [],
   "source": [
    "f = open(BACKUP_FILE, \"rb\")\n",
    "    \n",
    "header_length_bytes = f.read(4)\n",
    "header_length       = int.from_bytes(header_length_bytes, byteorder='big')\n",
    "header_frame        = f.read(header_length)"
   ]
  },
  {
   "cell_type": "markdown",
   "metadata": {},
   "source": [
    "#### Get AES init vector and passphrase salt"
   ]
  },
  {
   "cell_type": "code",
   "execution_count": null,
   "metadata": {},
   "outputs": [],
   "source": [
    "frame = Backups_pb2.BackupFrame()\n",
    "frame.ParseFromString(header_frame)\n",
    "\n",
    "iv   = frame.header.iv\n",
    "salt = frame.header.salt"
   ]
  },
  {
   "cell_type": "markdown",
   "metadata": {},
   "source": [
    "## Decrypt frames"
   ]
  },
  {
   "cell_type": "code",
   "execution_count": null,
   "metadata": {},
   "outputs": [],
   "source": [
    "key = getBackupKey(BACKUP_PASSPHRASE, salt)\n",
    "\n",
    "derived = HKDF(\n",
    "    algorithm=hashes.SHA256(),\n",
    "    length=64,\n",
    "    salt=None,\n",
    "    info=bytes('Backup Export', encoding='utf-8'),\n",
    "    backend=default_backend()\n",
    ").derive(key)\n",
    "\n",
    "cipherKey, macKey = derived[0:32], derived[32:64]"
   ]
  },
  {
   "cell_type": "code",
   "execution_count": null,
   "metadata": {},
   "outputs": [],
   "source": [
    "counter = int.from_bytes(iv[:4], byteorder='big')\n",
    "\n",
    "frames = []\n",
    "\n",
    "while True:\n",
    "    \n",
    "    chunk = f.read(4)\n",
    "    \n",
    "    if chunk:\n",
    "    \n",
    "        length    = int.from_bytes(chunk, byteorder='big')\n",
    "        frame     = f.read(length - 10)\n",
    "        frame_mac = f.read(10)\n",
    "\n",
    "        # Verify MAC\n",
    "\n",
    "        mac = hmac.HMAC(macKey, hashes.SHA256(), backend=default_backend())\n",
    "        mac.update(frame)\n",
    "        check_mac = mac.finalize()\n",
    "\n",
    "\n",
    "        if frame_mac != check_mac[:10]:\n",
    "            raise ValueError('Invalid MAC @ frame ' + str(len(frames)))\n",
    "\n",
    "        # Decrypt\n",
    "\n",
    "        iv = counter.to_bytes(length=4, byteorder='big') + iv[4:]\n",
    "        counter += 1\n",
    "        cipher = Cipher(algorithms.AES(cipherKey), modes.CTR(iv), backend=default_backend()).decryptor()\n",
    "        plaintext = cipher.update(frame) + cipher.finalize()\n",
    "\n",
    "        # Setup protobuf\n",
    "\n",
    "        frame_pb2 = Backups_pb2.BackupFrame()\n",
    "        frame_pb2.ParseFromString(plaintext)\n",
    "\n",
    "        frames.append(frame_pb2)\n",
    "        \n",
    "        # In case it's an attachment or an Avatar, it also needs to be decrypted\n",
    "\n",
    "        if frame_pb2.HasField('attachment') or frame_pb2.HasField('avatar'):\n",
    "\n",
    "            length = frame_pb2.attachment.length if frame_pb2.HasField('attachment') else frame_pb2.avatar.length\n",
    "\n",
    "            iv = counter.to_bytes(length=4, byteorder='big') + iv[4:]\n",
    "            counter += 1\n",
    "            cipher = Cipher(algorithms.AES(cipherKey), modes.CTR(iv), backend=default_backend()).decryptor()\n",
    "            mac = hmac.HMAC(macKey, hashes.SHA256(), backend=default_backend())\n",
    "            mac.update(iv)\n",
    "            \n",
    "            enc_file = f.read(length)\n",
    "            \n",
    "            mac.update(enc_file)\n",
    "            check_mac = mac.finalize()\n",
    "            \n",
    "            file_mac = f.read(10)\n",
    "            \n",
    "            if file_mac != check_mac[:10]:\n",
    "                raise ValueError('Invalid MAC @ attachment/avatar ' + str(len(frames)))\n",
    "            \n",
    "            file = cipher.update(enc_file) + cipher.finalize()\n",
    "            \n",
    "            if frame_pb2.HasField('attachment'):\n",
    "                with open('attachments/' + str(frame_pb2.attachment.rowId) + '_' + str(frame_pb2.attachment.attachmentId), 'wb') as f2:\n",
    "                    f2.write(file)\n",
    "            else:\n",
    "                with open('avatars/' + str(frame_pb2.avatar.name), 'wb') as f2:\n",
    "                    f2.write(file)\n",
    "    \n",
    "    else:\n",
    "        \n",
    "        f.close()\n",
    "        break\n",
    "        \n",
    "        "
   ]
  },
  {
   "cell_type": "code",
   "execution_count": null,
   "metadata": {},
   "outputs": [],
   "source": [
    "f = open('statements.sql', 'w')\n",
    "\n",
    "for frame in frames:\n",
    "    if frame.HasField('statement'):\n",
    "        f.write(frame.statement.statement + \"\\n\\n\\n\")\n",
    "        \n",
    "f.close()"
   ]
  },
  {
   "cell_type": "code",
   "execution_count": null,
   "metadata": {},
   "outputs": [],
   "source": [
    "frames[2200].statement"
   ]
  },
  {
   "cell_type": "code",
   "execution_count": null,
   "metadata": {},
   "outputs": [],
   "source": []
  }
 ],
 "metadata": {
  "kernelspec": {
   "display_name": "Python 3",
   "language": "python",
   "name": "python3"
  },
  "language_info": {
   "codemirror_mode": {
    "name": "ipython",
    "version": 3
   },
   "file_extension": ".py",
   "mimetype": "text/x-python",
   "name": "python",
   "nbconvert_exporter": "python",
   "pygments_lexer": "ipython3",
   "version": "3.6.6"
  }
 },
 "nbformat": 4,
 "nbformat_minor": 2
}
