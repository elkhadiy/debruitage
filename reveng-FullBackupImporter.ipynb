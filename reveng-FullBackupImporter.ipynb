{
 "cells": [
  {
   "cell_type": "markdown",
   "metadata": {},
   "source": [
    "# Decrypting Signal Backup"
   ]
  },
  {
   "cell_type": "code",
   "execution_count": null,
   "metadata": {},
   "outputs": [],
   "source": [
    "from cryptography.hazmat.primitives          import hashes, hmac\n",
    "from cryptography.hazmat.primitives.kdf.hkdf import HKDF\n",
    "from cryptography.hazmat.backends            import default_backend\n",
    "from cryptography.hazmat.primitives.ciphers  import Cipher, algorithms, modes\n",
    "\n",
    "import Backups_pb2\n",
    "BACKUP_PASSPHRASE = '770374738950407044994423070922'\n",
    "BACKUP_FILE       = 'signal.backup'\n",
    "\n",
    "def getBackupKey(passphrase, salt):\n",
    "\n",
    "    i = bytes(passphrase, encoding='utf-8')\n",
    "    h = i\n",
    "\n",
    "    digest = hashes.Hash(hashes.SHA512(), backend=default_backend())\n",
    "    digest.update(salt)\n",
    "\n",
    "    for k in range(250000):\n",
    "        digest.update(h + i)\n",
    "        h = digest.finalize()\n",
    "        digest = hashes.Hash(hashes.SHA512(), backend=default_backend())\n",
    "\n",
    "    return h[:32]"
   ]
  },
  {
   "cell_type": "markdown",
   "metadata": {},
   "source": [
    "## Load encrypted frames"
   ]
  },
  {
   "cell_type": "code",
   "execution_count": null,
   "metadata": {},
   "outputs": [],
   "source": [
    "data = []\n",
    "with open(BACKUP_FILE, \"rb\") as f:\n",
    "    while True:\n",
    "        chunk = f.read(4)\n",
    "        if chunk:\n",
    "            length = int.from_bytes(chunk, byteorder='big')\n",
    "            frame = f.read(length)\n",
    "            mac = frame[-10:]\n",
    "            frame = frame[:-10]\n",
    "            data.append([frame, mac])\n",
    "        else:\n",
    "            break"
   ]
  },
  {
   "cell_type": "markdown",
   "metadata": {},
   "source": [
    "#### Get AES init vector and passphrase salt"
   ]
  },
  {
   "cell_type": "code",
   "execution_count": null,
   "metadata": {},
   "outputs": [],
   "source": [
    "headerFrame = data[0][0] + data[0][1]\n",
    "\n",
    "frame = Backups_pb2.BackupFrame()\n",
    "frame.ParseFromString(headerFrame)\n",
    "\n",
    "iv   = frame.header.iv\n",
    "salt = frame.header.salt"
   ]
  },
  {
   "cell_type": "markdown",
   "metadata": {},
   "source": [
    "## Decrypt frames"
   ]
  },
  {
   "cell_type": "code",
   "execution_count": null,
   "metadata": {},
   "outputs": [],
   "source": [
    "key = getBackupKey(BACKUP_PASSPHRASE, salt)\n",
    "\n",
    "derived = HKDF(\n",
    "    algorithm=hashes.SHA256(),\n",
    "    length=64,\n",
    "    salt=None,\n",
    "    info=bytes('Backup Export', encoding='utf-8'),\n",
    "    backend=default_backend()\n",
    ").derive(key)\n",
    "\n",
    "cipherKey, macKey = derived[0:32], derived[32:64]"
   ]
  },
  {
   "cell_type": "code",
   "execution_count": null,
   "metadata": {},
   "outputs": [],
   "source": [
    "counter = int.from_bytes(iv[:4], byteorder='big')\n",
    "\n",
    "frames = []\n",
    "\n",
    "for packet in data[1:]:\n",
    "    \n",
    "    # TODO: loop will break when it hits an attachment block\n",
    "\n",
    "    cipherText = packet[0]\n",
    "    theirMac   = packet[1]\n",
    "    \n",
    "    # Verify MAC\n",
    "    \n",
    "    mac = hmac.HMAC(macKey, hashes.SHA256(), backend=default_backend())\n",
    "    mac.update(cipherText)\n",
    "    ourMac = mac.finalize()\n",
    "\n",
    "\n",
    "    if theirMac != ourMac[:10]:\n",
    "        raise ValueError\n",
    "        \n",
    "    # Decrypt\n",
    "\n",
    "    iv = counter.to_bytes(length=4, byteorder='big') + iv[4:]\n",
    "    counter += 1\n",
    "    cipher = Cipher(algorithms.AES(cipherKey),modes.CTR(iv),backend=default_backend()).decryptor()\n",
    "    plaintext = cipher.update(cipherText) + cipher.finalize()\n",
    "    \n",
    "    # Setup protobuf\n",
    "\n",
    "    frame = Backups_pb2.BackupFrame()\n",
    "    frame.ParseFromString(plaintext)\n",
    "\n",
    "    frames.append(frame)"
   ]
  },
  {
   "cell_type": "code",
   "execution_count": null,
   "metadata": {},
   "outputs": [],
   "source": []
  }
 ],
 "metadata": {
  "kernelspec": {
   "display_name": "Python 3",
   "language": "python",
   "name": "python3"
  },
  "language_info": {
   "codemirror_mode": {
    "name": "ipython",
    "version": 3
   },
   "file_extension": ".py",
   "mimetype": "text/x-python",
   "name": "python",
   "nbconvert_exporter": "python",
   "pygments_lexer": "ipython3",
   "version": "3.6.6"
  }
 },
 "nbformat": 4,
 "nbformat_minor": 2
}
